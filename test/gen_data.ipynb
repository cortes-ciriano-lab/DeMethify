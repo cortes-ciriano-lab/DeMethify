{
 "cells": [
  {
   "cell_type": "markdown",
   "id": "cc27daf6-0149-499c-aeeb-20827bd82992",
   "metadata": {},
   "source": [
    "# Generate in-silico data from a methylation reference matrix"
   ]
  },
  {
   "cell_type": "markdown",
   "id": "14b22442-0b1e-4505-a0b1-3adbfb6462af",
   "metadata": {},
   "source": [
    "In this folder, there is one script named gen_bedmethyl.py that allows you to generate artificial data from a methylation reference matrix. It is not directly usable from the command line, but you can use from this notebook or modify the script parameters and run it."
   ]
  },
  {
   "cell_type": "code",
   "execution_count": 4,
   "id": "244fe1cb-bdff-4320-8180-80ab947b93dc",
   "metadata": {},
   "outputs": [],
   "source": [
    "import os\n",
    "import numpy as np\n",
    "import pandas as pd\n",
    "import numpy.random as rd"
   ]
  },
  {
   "cell_type": "markdown",
   "id": "6f7a73f8-d6e9-47a7-8866-035dd7847929",
   "metadata": {},
   "source": [
    "## In-silico mixture functions"
   ]
  },
  {
   "cell_type": "markdown",
   "id": "be0a774d-338b-4767-b657-f795460674ef",
   "metadata": {},
   "source": [
    "There are two in-silico mixture functions:\n",
    "- gen_param_u, that generates data for a given unknown portion (hence the u)\n",
    "- gen_para, that generates data without any unknown\n",
    "  \n",
    "For the moment there is only one unknown cell type possible, with gen_param_u. "
   ]
  },
  {
   "cell_type": "code",
   "execution_count": 5,
   "id": "7a2d5dc2-d6a4-41d3-9baf-0eb25275cecb",
   "metadata": {},
   "outputs": [],
   "source": [
    "def gen_param_u(R_full, read_depth, trunc, unknown, nb_samples, disp=1.0):\n",
    "    nb_cpg, nb_celltypes = R_full.shape\n",
    "\n",
    "    alpha_sim_1 = rd.dirichlet(np.ones(trunc), nb_samples).T\n",
    "    alpha_sim_2 = rd.dirichlet(np.ones(nb_celltypes - trunc), 1).T\n",
    "    alpha_sim = np.concatenate([alpha_sim_1 * (1 - unknown), alpha_sim_2 * unknown])\n",
    "\n",
    "    d_x = rd.poisson(read_depth, (nb_cpg, nb_samples))\n",
    "    \n",
    "    R_full = R_full + ((R_full == 0) * 1e-10) - ((R_full == 1) * 1e-10)\n",
    "    R_full = rd.beta(disp * R_full, disp * (1 - R_full))\n",
    "    beta_sim = R_full @ alpha_sim\n",
    "    x = rd.binomial(d_x, beta_sim)\n",
    "    m_u = R_full[:, trunc:] @ alpha_sim_2 \n",
    "    \n",
    "    return x, d_x, np.concatenate([alpha_sim[:trunc,:], unknown_portion]), m_u\n",
    "\n",
    "def gen_param(R_full, read_depth, nb_samples, disp=1.0):\n",
    "    nb_cpg, nb_celltypes = R_full.shape\n",
    "\n",
    "    alpha_sim = rd.dirichlet(np.ones(nb_celltypes), nb_samples).T\n",
    "\n",
    "    d_x = rd.poisson(read_depth, (nb_cpg, nb_samples))\n",
    "    \n",
    "    R_full = R_full + ((R_full == 0) * 1e-16) - ((R_full == 1) * 1e-16)\n",
    "    R_full = rd.beta(disp * R_full, disp * (1 - R_full))\n",
    "    beta_sim = R_full @ alpha_sim\n",
    "\n",
    "    x = rd.binomial(d_x, beta_sim)\n",
    "    \n",
    "    return x, d_x, alpha_sim"
   ]
  },
  {
   "cell_type": "markdown",
   "id": "d94e00de-3493-487f-a4a0-46e7dcef1655",
   "metadata": {},
   "source": [
    "## Parameters and data generation"
   ]
  },
  {
   "cell_type": "markdown",
   "id": "8b39a85c-59c0-4143-98d0-744780063334",
   "metadata": {},
   "source": [
    "### Parameters specification"
   ]
  },
  {
   "cell_type": "markdown",
   "id": "a38986a1-3c31-429a-bdca-d0616c1b84ca",
   "metadata": {},
   "source": [
    "Here you can specify the parameters for the data generation:\n",
    "- ref_file: the path for methylation reference matrix to use.\n",
    "- random_subsample: the number of CpG sites to choose from the reference matrix to downsample it if needed.\n",
    "- read_depth: the average read depth for methylation reads\n",
    "- nb_samples: the number of samples to generate\n",
    "- gen_u: if the user doesn't want to generate unknown they can choose value None, to generate some unknown:\n",
    "    -  they can select \"random\" to pick nb_known_cell_types known cell types at random in the columns of the reference matrix\n",
    "    -  \"first\" to pick the nb_known_cell_types first cell types in reference matrix columns\n",
    "    -  \"select\" to pick the columns in the select_cell_types list\n",
    "- outdir: path for output directory. "
   ]
  },
  {
   "cell_type": "code",
   "execution_count": 6,
   "id": "cedf846f-a702-4889-9006-cf8b1d0a9d5a",
   "metadata": {},
   "outputs": [],
   "source": [
    "ref_file = \"bed1_select_ref_intersect.bed\"\n",
    "ref = pd.read_csv(ref_file, sep='\\t')\n",
    "random_subsample = 300\n",
    "ref = ref.sample(n=random_subsample)\n",
    "pos, df = ref.iloc[:,:3], ref.iloc[:,3:]\n",
    "read_depth = 50\n",
    "nb_samples = 3\n",
    "gen_u = \"select\"\n",
    "unknown_portion = np.reshape(np.array([0.4, 0.2, 0.1]), (1,3))\n",
    "nb_known_cell_types = 5\n",
    "select_cell_types = ['Adipocytes', 'Cortical_neurons', 'Hepatocytes', 'Lung_cells', 'Pancreatic_beta_cells'] \n",
    "outdir = \"output_gen\""
   ]
  },
  {
   "cell_type": "markdown",
   "id": "49a797e8-87e0-4076-9c2b-c6d197c5eff0",
   "metadata": {},
   "source": [
    "### Data generation and saving them"
   ]
  },
  {
   "cell_type": "code",
   "execution_count": 7,
   "id": "d70091f1-49fb-450c-abcc-60c024dfcbd3",
   "metadata": {},
   "outputs": [
    {
     "name": "stdout",
     "output_type": "stream",
     "text": [
      "Creating directory /Users/mbourdim/Desktop/demethify_/mamamia/DeMethify/preprocessing/output_gen to store results\n"
     ]
    }
   ],
   "source": [
    "output_folder = os.path.join(os.getcwd(), outdir)\n",
    "if not os.path.exists(output_folder):\n",
    "    print(f'Creating directory {output_folder} to store results')\n",
    "    os.mkdir(output_folder)\n",
    "\n",
    "ref.to_csv(output_folder + '/ref_matrix.bed',  sep='\\t', index = False)\n",
    "\n",
    "if gen_u:\n",
    "    if gen_u == \"random\":\n",
    "        known_cell_types = random_column_names = list(rd.choice(df.columns, nb_known_cell_types, replace=False))\n",
    "    elif gen_u == \"first\":\n",
    "        known_cell_types = list(df.columns)[:nb_known_cell_types]\n",
    "    elif gen_u == \"select\":\n",
    "        known_cell_types = select_cell_types\n",
    "        \n",
    "    df = df[known_cell_types + [col for col in df.columns if col not in known_cell_types]]\n",
    "    \n",
    "    meth_counts, counts, alpha_sim, meth_u = gen_param_u(df.values, read_depth, nb_known_cell_types, unknown_portion, nb_samples)   \n",
    "\n",
    "else:\n",
    "    known_cell_types = df.columns\n",
    "    meth_counts, counts, alpha_sim = gen_param(df.values, read_depth, nb_samples)\n",
    "\n",
    "alpha_sim_df = pd.DataFrame(alpha_sim)\n",
    "index_name = known_cell_types\n",
    "if gen_u:\n",
    "    index_name += [\"unknown_cell_1\"]\n",
    "    meth_u_df = pd.DataFrame(meth_u)\n",
    "    meth_u_df.columns = [\"unknown_cell_1\"]\n",
    "    meth_u_df.to_csv(output_folder + '/meth_profile_sim.csv',  sep='\\t', index = False)\n",
    "alpha_sim_df.index = index_name\n",
    "alpha_sim_df.columns = [\"sample\" + str(i + 1) for i in range(nb_samples)]\n",
    "alpha_sim_df.to_csv(output_folder + '/proportions_sim.csv',  sep='\\t', index = True)\n",
    "\n",
    "for i in range(nb_samples):\n",
    "    sample = pos.copy()\n",
    "    sample['valid_coverage'] = counts[:,i:i+1]\n",
    "    sample['count_modified'] = meth_counts[:,i:i+1]\n",
    "    sample['percent_modified'] =  (sample['count_modified'] / sample['valid_coverage']) * 100\n",
    "\n",
    "    sample.to_csv(output_folder + '/sample' + str(i + 1) + '.bed',  sep='\\t', index = False)"
   ]
  }
 ],
 "metadata": {
  "kernelspec": {
   "display_name": "Python 3 (ipykernel)",
   "language": "python",
   "name": "python3"
  },
  "language_info": {
   "codemirror_mode": {
    "name": "ipython",
    "version": 3
   },
   "file_extension": ".py",
   "mimetype": "text/x-python",
   "name": "python",
   "nbconvert_exporter": "python",
   "pygments_lexer": "ipython3",
   "version": "3.11.8"
  }
 },
 "nbformat": 4,
 "nbformat_minor": 5
}
