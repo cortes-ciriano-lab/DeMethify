{
 "cells": [
  {
   "cell_type": "markdown",
   "id": "54b835bd-dfe0-4c43-9223-3a7fd26b175a",
   "metadata": {},
   "source": [
    "# Preprocessing"
   ]
  },
  {
   "cell_type": "markdown",
   "id": "6d57244c-11c6-40e3-a586-e4c753e81380",
   "metadata": {},
   "source": [
    "In this folder, there are two scripts:\n",
    "- feature_selection.py, to perform feature selection, i.e select CpG sites with the highest variance across cell types in the methylation reference matrix.\n",
    "- intersect_bed.py, to intersect the reference and samples between them, so that their CpG sites are consistent and that they're usable by the DeMethify algorithm.\n",
    "These 2 files are supposed to take bedmethyl files as input, so they assume that the first 3 columns correspond respectively to chromosome, start position and end position. They're easily adaptable to other cases, but aren't at this time. "
   ]
  },
  {
   "cell_type": "markdown",
   "id": "7162d218-a442-46ca-bbe8-93857960febe",
   "metadata": {},
   "source": [
    "## Feature selection"
   ]
  },
  {
   "cell_type": "code",
   "execution_count": 1,
   "id": "431aff1a-f144-4ccd-bf39-e270f71b09d3",
   "metadata": {},
   "outputs": [
    {
     "name": "stdout",
     "output_type": "stream",
     "text": [
      "usage: feature_selection.py [-h] bedfile n [output_folder]\n",
      "\n",
      "Select top N rows with highest variance from a BED file.\n",
      "\n",
      "positional arguments:\n",
      "  bedfile        Path to the input BED file\n",
      "  n              Number of top rows to select\n",
      "  output_folder  Path to output folder\n",
      "\n",
      "options:\n",
      "  -h, --help     show this help message and exit\n"
     ]
    }
   ],
   "source": [
    "!python feature_selection.py -h"
   ]
  },
  {
   "cell_type": "markdown",
   "id": "a5caf48e-abf4-42df-bf81-8e1c1480412c",
   "metadata": {},
   "source": [
    "Here, let's select the 100000 CpG sites with the highest variance in bed1.bed. "
   ]
  },
  {
   "cell_type": "code",
   "execution_count": 2,
   "id": "75b969f7-e39e-438a-9c73-57ea932a992c",
   "metadata": {},
   "outputs": [],
   "source": [
    "!python feature_selection.py bed1.bed 100000"
   ]
  },
  {
   "cell_type": "markdown",
   "id": "b1810a60-2bdc-47aa-a4a2-2676d63a174a",
   "metadata": {},
   "source": [
    "A file bed1_select_ref.bed has been created. "
   ]
  },
  {
   "cell_type": "markdown",
   "id": "411a073a-92c0-497b-97df-f13c5ea0357c",
   "metadata": {},
   "source": [
    "## Intersection"
   ]
  },
  {
   "cell_type": "code",
   "execution_count": 3,
   "id": "6e424547-4c4f-4464-83c0-a1c6c7111599",
   "metadata": {},
   "outputs": [
    {
     "name": "stdout",
     "output_type": "stream",
     "text": [
      "usage: intersect_bed.py [-h] bed_files [bed_files ...] [out]\n",
      "\n",
      "Intersect multiple BED files using bedtools.\n",
      "\n",
      "positional arguments:\n",
      "  bed_files   List of BED files to intersect (at least two files required).\n",
      "  out         Path to output folder\n",
      "\n",
      "options:\n",
      "  -h, --help  show this help message and exit\n"
     ]
    }
   ],
   "source": [
    "!python intersect_bed.py -h"
   ]
  },
  {
   "cell_type": "code",
   "execution_count": null,
   "id": "aecf20d7-a9bd-4939-9004-815b2e34c908",
   "metadata": {},
   "outputs": [],
   "source": []
  }
 ],
 "metadata": {
  "kernelspec": {
   "display_name": "Python 3 (ipykernel)",
   "language": "python",
   "name": "python3"
  },
  "language_info": {
   "codemirror_mode": {
    "name": "ipython",
    "version": 3
   },
   "file_extension": ".py",
   "mimetype": "text/x-python",
   "name": "python",
   "nbconvert_exporter": "python",
   "pygments_lexer": "ipython3",
   "version": "3.11.8"
  }
 },
 "nbformat": 4,
 "nbformat_minor": 5
}
