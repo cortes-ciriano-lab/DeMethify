{
 "cells": [
  {
   "cell_type": "markdown",
   "id": "54b835bd-dfe0-4c43-9223-3a7fd26b175a",
   "metadata": {},
   "source": [
    "# Preprocessing"
   ]
  },
  {
   "cell_type": "markdown",
   "id": "6d57244c-11c6-40e3-a586-e4c753e81380",
   "metadata": {},
   "source": [
    "In this folder, there are two scripts:\n",
    "- feature_selection.py, to perform feature selection, i.e select CpG sites with the highest variance across cell types in the methylation reference matrix.\n",
    "- intersect_bed.py, to intersect the reference and samples between them, so that their CpG sites are consistent and that they're usable by the DeMethify algorithm.\n",
    "These 2 files are supposed to take bedmethyl files as input, so they assume that the first 3 columns correspond respectively to chromosome, start position and end position. They're easily adaptable to other cases, but aren't at this time.\n",
    "\n",
    "To use intersect_bed.py, one should have bedtools installed and modify the script to indicate where it's located."
   ]
  },
  {
   "cell_type": "markdown",
   "id": "7162d218-a442-46ca-bbe8-93857960febe",
   "metadata": {},
   "source": [
    "## Feature selection"
   ]
  },
  {
   "cell_type": "code",
   "execution_count": 1,
   "id": "431aff1a-f144-4ccd-bf39-e270f71b09d3",
   "metadata": {},
   "outputs": [
    {
     "name": "stdout",
     "output_type": "stream",
     "text": [
      "usage: feature_selection.py [-h] [--bedfile BEDFILE] [--n N] [--out [OUT]]\n",
      "\n",
      "Select top N rows with highest variance from a BED file.\n",
      "\n",
      "options:\n",
      "  -h, --help         show this help message and exit\n",
      "  --bedfile BEDFILE  Path to the input BED file\n",
      "  --n N              Number of top rows to select\n",
      "  --out [OUT]        Path to output folder\n"
     ]
    }
   ],
   "source": [
    "!python feature_selection.py -h"
   ]
  },
  {
   "cell_type": "markdown",
   "id": "a5caf48e-abf4-42df-bf81-8e1c1480412c",
   "metadata": {},
   "source": [
    "Here, let's select the 100000 CpG sites with the highest variance in bed1.bed. "
   ]
  },
  {
   "cell_type": "code",
   "execution_count": 12,
   "id": "75b969f7-e39e-438a-9c73-57ea932a992c",
   "metadata": {},
   "outputs": [],
   "source": [
    "!python feature_selection.py --bed bed1.bed --n 100000 --out ."
   ]
  },
  {
   "cell_type": "markdown",
   "id": "b1810a60-2bdc-47aa-a4a2-2676d63a174a",
   "metadata": {},
   "source": [
    "A file bed1_select_ref.bed has been created. "
   ]
  },
  {
   "cell_type": "markdown",
   "id": "411a073a-92c0-497b-97df-f13c5ea0357c",
   "metadata": {},
   "source": [
    "## Intersection"
   ]
  },
  {
   "cell_type": "code",
   "execution_count": 13,
   "id": "6e424547-4c4f-4464-83c0-a1c6c7111599",
   "metadata": {},
   "outputs": [
    {
     "name": "stdout",
     "output_type": "stream",
     "text": [
      "usage: intersect_bed.py [-h] [--bed BED [BED ...]] [--out [OUT]]\n",
      "\n",
      "Intersect multiple BED files using bedtools.\n",
      "\n",
      "options:\n",
      "  -h, --help           show this help message and exit\n",
      "  --bed BED [BED ...]  List of BED files to intersect (at least two files\n",
      "                       required).\n",
      "  --out [OUT]          Path to output folder\n"
     ]
    }
   ],
   "source": [
    "!python intersect_bed.py -h"
   ]
  },
  {
   "cell_type": "markdown",
   "id": "6a5bf4cc-007a-412a-9314-a316e66ff48b",
   "metadata": {},
   "source": [
    "Let's intersect our new reference bed1_select_ref.bed with the rest of the bed files in the folder:"
   ]
  },
  {
   "cell_type": "code",
   "execution_count": 15,
   "id": "d492a0de-29cb-4e73-9481-10571b4eae72",
   "metadata": {},
   "outputs": [
    {
     "name": "stdout",
     "output_type": "stream",
     "text": [
      "Intersected files created:  ['bed1_select_ref_intersect.bed', 'bed2_intersect.bed', 'bed3_intersect.bed', 'bed4_intersect.bed']\n"
     ]
    }
   ],
   "source": [
    "!python intersect_bed.py --bed bed1_select_ref.bed bed2.bed bed3.bed bed4.bed --out ."
   ]
  },
  {
   "cell_type": "markdown",
   "id": "149f28dc-a023-4afb-98f3-889971899665",
   "metadata": {},
   "source": [
    "All ready to apply DeMethify now!"
   ]
  }
 ],
 "metadata": {
  "kernelspec": {
   "display_name": "Python 3 (ipykernel)",
   "language": "python",
   "name": "python3"
  },
  "language_info": {
   "codemirror_mode": {
    "name": "ipython",
    "version": 3
   },
   "file_extension": ".py",
   "mimetype": "text/x-python",
   "name": "python",
   "nbconvert_exporter": "python",
   "pygments_lexer": "ipython3",
   "version": "3.11.8"
  }
 },
 "nbformat": 4,
 "nbformat_minor": 5
}
