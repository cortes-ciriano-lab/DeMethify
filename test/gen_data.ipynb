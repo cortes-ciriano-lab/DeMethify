{
 "cells": [
  {
   "cell_type": "markdown",
   "id": "cc27daf6-0149-499c-aeeb-20827bd82992",
   "metadata": {},
   "source": [
    "# Generate in-silico data from a methylation reference matrix"
   ]
  },
  {
   "cell_type": "markdown",
   "id": "14b22442-0b1e-4505-a0b1-3adbfb6462af",
   "metadata": {},
   "source": [
    "In this folder, there is one script named gen_bedmethyl.py that allows you to generate artificial data from a methylation reference matrix. It is not directly usable from the command line, but you can use from this notebook or modify the script parameters and run it."
   ]
  },
  {
   "cell_type": "code",
   "execution_count": 1,
   "id": "244fe1cb-bdff-4320-8180-80ab947b93dc",
   "metadata": {},
   "outputs": [],
   "source": [
    "import os\n",
    "import numpy as np\n",
    "import pandas as pd\n",
    "import numpy.random as rd"
   ]
  },
  {
   "cell_type": "markdown",
   "id": "6f7a73f8-d6e9-47a7-8866-035dd7847929",
   "metadata": {},
   "source": [
    "## In-silico mixture functions"
   ]
  },
  {
   "cell_type": "markdown",
   "id": "be0a774d-338b-4767-b657-f795460674ef",
   "metadata": {},
   "source": [
    "The following function generates in-silico mixtures:\n",
    "- gen_param_u, generates data for a given unknown portion in potentially two ways\n",
    "    - Semi in-silico where one generates mixtures from a methylation pre-existing reference matrix\n",
    "    - Full in-silico where one generates mixtures from a methylation reference matrix that is also randomly generated"
   ]
  },
  {
   "cell_type": "code",
   "execution_count": 2,
   "id": "fa072762-d0bf-48d6-a9f2-38fe22eefb15",
   "metadata": {},
   "outputs": [],
   "source": [
    "import numpy as np\n",
    "import numpy.random as rd\n",
    "\n",
    "def gen_param_u(mode, nb_cpg=None, R_full=None, read_depth=100, trunc=2, unknown=0.1, nb_samples=10,\n",
    "                read_depth_ref=40, nb_real_u=2):\n",
    "    if mode == 'semi-silico':\n",
    "        if R_full is None:\n",
    "            raise ValueError(\"R_full must be provided for semi-silico mode.\")\n",
    "        nb_cpg, nb_celltypes = R_full.shape\n",
    "\n",
    "    elif mode == 'full-in-silico':\n",
    "        if nb_cpg is None:\n",
    "            raise ValueError(\"nb_cpg must be provided for full in silico mode.\")\n",
    "        \n",
    "        temp = np.ones((nb_cpg, trunc + nb_real_u))\n",
    "        rand_param = rd.uniform(size=(1, trunc + nb_real_u))\n",
    "        R_full = rd.beta(temp * rand_param, temp * rand_param)\n",
    "        R_full_d = rd.poisson(read_depth_ref, (nb_cpg, trunc + nb_real_u)) + 1\n",
    "        R_full_m = rd.binomial(R_full_d, R_full)\n",
    "        R_full_p = R_full_m / R_full_d\n",
    "        R_full = R_full_p + ((R_full_p == 0) * 1e-10) - ((R_full_p == 1) * 1e-10)\n",
    "        nb_celltypes = R_full.shape[1]\n",
    "    else:\n",
    "        raise ValueError(\"Mode must be 'semi-silico' or 'full-in-silico'.\")\n",
    "\n",
    "    alpha_sim_1 = rd.dirichlet(np.ones(trunc), nb_samples).T\n",
    "    alpha_sim_2 = rd.dirichlet(np.ones(nb_celltypes - trunc), 1).T\n",
    "    alpha_sim = np.concatenate([alpha_sim_1 * (1 - unknown), alpha_sim_2 * unknown])\n",
    "\n",
    "    d_x = rd.poisson(read_depth, (nb_cpg, nb_samples)) + 1\n",
    "    beta_sim = R_full @ alpha_sim\n",
    "    x = rd.binomial(d_x, beta_sim)\n",
    "    m_u = R_full[:, trunc:] @ alpha_sim_2\n",
    "    \n",
    "    if mode == 'semi-silico':\n",
    "        return x, d_x, np.concatenate([alpha_sim[:trunc, :], unknown]), m_u, R_full[:, :trunc]\n",
    "    elif mode == 'full-in-silico':\n",
    "        return x, d_x, np.concatenate([alpha_sim[:trunc, :], unknown]), m_u, R_full[:, :trunc], R_full_d[:, :trunc], R_full_m[:, :trunc], R_full\n",
    "        "
   ]
  },
  {
   "cell_type": "markdown",
   "id": "d94e00de-3493-487f-a4a0-46e7dcef1655",
   "metadata": {},
   "source": [
    "## Parameters and data generation"
   ]
  },
  {
   "cell_type": "markdown",
   "id": "a38986a1-3c31-429a-bdca-d0616c1b84ca",
   "metadata": {},
   "source": [
    "### Parameters for Data Generation\n",
    "\n",
    "- **ref_file**:  \n",
    "  Path to the methylation reference matrix to use for data generation. This file is used in the semi-silico mode to provide a predefined reference matrix.\n",
    "\n",
    "- **random_subsample**:  \n",
    "  Number of CpG sites to randomly select from the reference matrix for downsampling, if needed. This allows reducing the size of the reference matrix for computational efficiency or specific experimental needs.\n",
    "\n",
    "- **read_depth**:  \n",
    "  Average read depth for methylation reads. This determines the sequencing coverage simulated for each CpG site.\n",
    "\n",
    "- **nb_samples**:  \n",
    "  Number of samples to generate for the simulation.\n",
    "\n",
    "- **gen_u**:  \n",
    "  Specifies how to handle unknown cell types in the data generation. Possible values:\n",
    "  - `None`: Do not include unknown cell types in the generated data.\n",
    "  - `\"random\"`: Randomly select `nb_known_cell_types` columns from the reference matrix as known cell types, and the rest are treated as unknown.\n",
    "  - `\"first\"`: Use the first `nb_known_cell_types` columns of the reference matrix as known cell types.\n",
    "  - `\"select\"`: Use the cell types listed in the `select_cell_types` parameter as the known cell types, treating the remaining columns as unknown.\n",
    "\n",
    "- **nb_known_cell_types**:  \n",
    "  Number of known cell types to include in the simulation. This is used when selecting or generating the reference matrix.\n",
    "\n",
    "- **select_cell_types**:  \n",
    "  A list of specific cell type names to include as known cell types when `gen_u=\"select\"` is chosen.\n",
    "\n",
    "- **outdir**:  \n",
    "  Path to the output directory where the generated files (e.g., proportions, methylation profiles, samples) will be saved. If the directory does not exist, it will be created automatically.\n",
    "\n",
    "- **nb_cpg** *(optional)*:  \n",
    "  Required only in full in silico mode. Specifies the number of CpG sites to generate the reference matrix if no pre-existing matrix (`ref_file`) is used.\n",
    "\n",
    "- **unknown_portion**:  \n",
    "  A matrix or array specifying the proportion of unknown cell types for each sample. This determines the mixing ratio of unknown and known cell types in the simulation.\n"
   ]
  },
  {
   "cell_type": "code",
   "execution_count": 3,
   "id": "cedf846f-a702-4889-9006-cf8b1d0a9d5a",
   "metadata": {},
   "outputs": [],
   "source": [
    "ref_file = \"bed1_select_ref_intersect.bed\"\n",
    "random_subsample = 350\n",
    "read_depth = 50\n",
    "nb_samples = 10\n",
    "gen_u = \"select\"\n",
    "unknown_portion = np.reshape(np.array([0.4, 0.2, 0.1, 0.8, 0.5, 0.1, 0.0, 0.7, 0.5, 0.9]), (1,nb_samples))\n",
    "nb_known_cell_types = 5\n",
    "select_cell_types = ['Adipocytes', 'Cortical_neurons', 'Hepatocytes', 'Lung_cells', 'Pancreatic_beta_cells'] \n",
    "outdir = \"output_gen\""
   ]
  },
  {
   "cell_type": "markdown",
   "id": "49a797e8-87e0-4076-9c2b-c6d197c5eff0",
   "metadata": {},
   "source": [
    "### Data generation and saving them"
   ]
  },
  {
   "cell_type": "code",
   "execution_count": 4,
   "id": "d70091f1-49fb-450c-abcc-60c024dfcbd3",
   "metadata": {},
   "outputs": [
    {
     "name": "stdout",
     "output_type": "stream",
     "text": [
      "Creating directory /Users/mbourdim/Desktop/tfk/DeMethify/test/output_gen to store results\n"
     ]
    }
   ],
   "source": [
    "output_folder = os.path.join(os.getcwd(), outdir)\n",
    "if not os.path.exists(output_folder):\n",
    "    print(f'Creating directory {output_folder} to store results')\n",
    "    os.mkdir(output_folder)\n",
    "\n",
    "ref = pd.read_csv(ref_file, sep='\\t')\n",
    "ref = ref.sample(n=random_subsample)\n",
    "pos, df = ref.iloc[:,:3], ref.iloc[:,3:]\n",
    "\n",
    "if gen_u:\n",
    "    if gen_u == \"random\":\n",
    "        known_cell_types = random_column_names = list(rd.choice(df.columns, nb_known_cell_types, replace=False))\n",
    "    elif gen_u == \"first\":\n",
    "        known_cell_types = list(df.columns)[:nb_known_cell_types]\n",
    "    elif gen_u == \"select\":\n",
    "        known_cell_types = select_cell_types\n",
    "        \n",
    "    df = df[known_cell_types + [col for col in df.columns if col not in known_cell_types]]\n",
    "    \n",
    "    meth_counts, counts, alpha_sim, meth_u, R_known = gen_param_u(\n",
    "        mode='semi-silico',\n",
    "        R_full=df.values,\n",
    "        read_depth=read_depth,\n",
    "        trunc=nb_known_cell_types,\n",
    "        unknown=unknown_portion,\n",
    "        nb_samples=nb_samples\n",
    "    )   \n",
    "\n",
    "else:\n",
    "    known_cell_types = df.columns\n",
    "    meth_counts, counts, alpha_sim = gen_param(df.values, read_depth, nb_samples)\n",
    "\n",
    "ref_ = pos.copy()\n",
    "ref_[known_cell_types] = df[known_cell_types]\n",
    "ref_.to_csv(output_folder + '/ref_matrix.bed',  sep='\\t', index = False)\n",
    "alpha_sim_df = pd.DataFrame(alpha_sim)\n",
    "index_name = known_cell_types\n",
    "if gen_u:\n",
    "    index_name += [\"unknown_cell_1\"]\n",
    "    meth_u_df = pd.DataFrame(meth_u)\n",
    "    meth_u_df.columns = [\"unknown_cell_1\"]\n",
    "    meth_u_df.to_csv(output_folder + '/meth_profile_sim.csv',  sep='\\t', index = False)\n",
    "alpha_sim_df.index = index_name\n",
    "alpha_sim_df.columns = [\"sample\" + str(i + 1) for i in range(nb_samples)]\n",
    "alpha_sim_df.to_csv(output_folder + '/proportions_sim.csv',  sep='\\t', index = True)\n",
    "\n",
    "for i in range(nb_samples):\n",
    "    sample = pos.copy()\n",
    "    sample['valid_coverage'] = counts[:,i:i+1]\n",
    "    sample['count_modified'] = meth_counts[:,i:i+1]\n",
    "    sample['percent_modified'] =  (sample['count_modified'] / sample['valid_coverage']) * 100\n",
    "\n",
    "    sample.to_csv(output_folder + '/sample' + str(i + 1) + '.bed',  sep='\\t', index = False)"
   ]
  }
 ],
 "metadata": {
  "kernelspec": {
   "display_name": "Python 3 (ipykernel)",
   "language": "python",
   "name": "python3"
  },
  "language_info": {
   "codemirror_mode": {
    "name": "ipython",
    "version": 3
   },
   "file_extension": ".py",
   "mimetype": "text/x-python",
   "name": "python",
   "nbconvert_exporter": "python",
   "pygments_lexer": "ipython3",
   "version": "3.11.8"
  }
 },
 "nbformat": 4,
 "nbformat_minor": 5
}
